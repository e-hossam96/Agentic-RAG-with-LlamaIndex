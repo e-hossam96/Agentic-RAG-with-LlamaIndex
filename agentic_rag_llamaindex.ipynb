{
 "cells": [
  {
   "cell_type": "markdown",
   "metadata": {},
   "source": [
    "# Agentic RAG with LlamaIndex\n"
   ]
  },
  {
   "cell_type": "markdown",
   "metadata": {},
   "source": [
    "In this notebook we will experiment the tool calling capability of our LLM.\n",
    "\n",
    "- Define a reader to read the `pdf` sample file [AraGPT2](./data/aragpt2.pdf) paper.\n",
    "- Define a `splitter` to process the texts of the document.\n",
    "- Set the LLM embedding and generation model ids.\n",
    "- Create the engines from the Indexes and define a tool wrapper around them.\n",
    "- Call the LLM with the defined tools and see the results.\n",
    "- Ensure that the LLM pciks the right tool.\n"
   ]
  },
  {
   "cell_type": "markdown",
   "metadata": {},
   "source": [
    "## Setups\n"
   ]
  },
  {
   "cell_type": "code",
   "execution_count": 1,
   "metadata": {},
   "outputs": [],
   "source": [
    "from rich import print\n",
    "from dotenv import load_dotenv"
   ]
  },
  {
   "cell_type": "code",
   "execution_count": 2,
   "metadata": {},
   "outputs": [],
   "source": [
    "# load env variables\n",
    "_ = load_dotenv()"
   ]
  },
  {
   "cell_type": "code",
   "execution_count": 3,
   "metadata": {},
   "outputs": [],
   "source": [
    "# define some constants\n",
    "GENERATION_MODEL_ID = \"gpt-4o-mini\"\n",
    "EMBEDDING_MODEL_ID = \"text-embedding-3-small\""
   ]
  },
  {
   "cell_type": "markdown",
   "metadata": {},
   "source": [
    "## Load Documents\n"
   ]
  },
  {
   "cell_type": "code",
   "execution_count": 4,
   "metadata": {},
   "outputs": [],
   "source": [
    "from llama_index.core import SimpleDirectoryReader\n",
    "\n",
    "documents_reader = SimpleDirectoryReader(input_files=[\"./data/aragpt2.pdf\"])\n",
    "documents = documents_reader.load_data()"
   ]
  },
  {
   "cell_type": "code",
   "execution_count": 5,
   "metadata": {},
   "outputs": [
    {
     "data": {
      "text/html": [
       "<pre style=\"white-space:pre;overflow-x:auto;line-height:normal;font-family:Menlo,'DejaVu Sans Mono',consolas,'Courier New',monospace\"><span style=\"color: #800080; text-decoration-color: #800080; font-weight: bold\">Document</span><span style=\"font-weight: bold\">(</span>\n",
       "    <span style=\"color: #808000; text-decoration-color: #808000\">id_</span>=<span style=\"color: #008000; text-decoration-color: #008000\">'a95827cd-165c-4d83-9121-26a2792a860f'</span>,\n",
       "    <span style=\"color: #808000; text-decoration-color: #808000\">embedding</span>=<span style=\"color: #800080; text-decoration-color: #800080; font-style: italic\">None</span>,\n",
       "    <span style=\"color: #808000; text-decoration-color: #808000\">metadata</span>=<span style=\"font-weight: bold\">{</span>\n",
       "        <span style=\"color: #008000; text-decoration-color: #008000\">'page_label'</span>: <span style=\"color: #008000; text-decoration-color: #008000\">'1'</span>,\n",
       "        <span style=\"color: #008000; text-decoration-color: #008000\">'file_name'</span>: <span style=\"color: #008000; text-decoration-color: #008000\">'aragpt2.pdf'</span>,\n",
       "        <span style=\"color: #008000; text-decoration-color: #008000\">'file_path'</span>: <span style=\"color: #008000; text-decoration-color: #008000\">'data/aragpt2.pdf'</span>,\n",
       "        <span style=\"color: #008000; text-decoration-color: #008000\">'file_type'</span>: <span style=\"color: #008000; text-decoration-color: #008000\">'application/pdf'</span>,\n",
       "        <span style=\"color: #008000; text-decoration-color: #008000\">'file_size'</span>: <span style=\"color: #008080; text-decoration-color: #008080; font-weight: bold\">457776</span>,\n",
       "        <span style=\"color: #008000; text-decoration-color: #008000\">'creation_date'</span>: <span style=\"color: #008000; text-decoration-color: #008000\">'2024-11-12'</span>,\n",
       "        <span style=\"color: #008000; text-decoration-color: #008000\">'last_modified_date'</span>: <span style=\"color: #008000; text-decoration-color: #008000\">'2024-10-22'</span>\n",
       "    <span style=\"font-weight: bold\">}</span>,\n",
       "    <span style=\"color: #808000; text-decoration-color: #808000\">excluded_embed_metadata_keys</span>=<span style=\"font-weight: bold\">[</span>\n",
       "        <span style=\"color: #008000; text-decoration-color: #008000\">'file_name'</span>,\n",
       "        <span style=\"color: #008000; text-decoration-color: #008000\">'file_type'</span>,\n",
       "        <span style=\"color: #008000; text-decoration-color: #008000\">'file_size'</span>,\n",
       "        <span style=\"color: #008000; text-decoration-color: #008000\">'creation_date'</span>,\n",
       "        <span style=\"color: #008000; text-decoration-color: #008000\">'last_modified_date'</span>,\n",
       "        <span style=\"color: #008000; text-decoration-color: #008000\">'last_accessed_date'</span>\n",
       "    <span style=\"font-weight: bold\">]</span>,\n",
       "    <span style=\"color: #808000; text-decoration-color: #808000\">excluded_llm_metadata_keys</span>=<span style=\"font-weight: bold\">[</span>\n",
       "        <span style=\"color: #008000; text-decoration-color: #008000\">'file_name'</span>,\n",
       "        <span style=\"color: #008000; text-decoration-color: #008000\">'file_type'</span>,\n",
       "        <span style=\"color: #008000; text-decoration-color: #008000\">'file_size'</span>,\n",
       "        <span style=\"color: #008000; text-decoration-color: #008000\">'creation_date'</span>,\n",
       "        <span style=\"color: #008000; text-decoration-color: #008000\">'last_modified_date'</span>,\n",
       "        <span style=\"color: #008000; text-decoration-color: #008000\">'last_accessed_date'</span>\n",
       "    <span style=\"font-weight: bold\">]</span>,\n",
       "    <span style=\"color: #808000; text-decoration-color: #808000\">relationships</span>=<span style=\"font-weight: bold\">{}</span>,\n",
       "    <span style=\"color: #808000; text-decoration-color: #808000\">text</span>=<span style=\"color: #008000; text-decoration-color: #008000\">'Proceedings of the Sixth Arabic Natural Language Processing Workshop , pages 196–207\\nKyiv, Ukraine </span>\n",
       "<span style=\"color: #008000; text-decoration-color: #008000\">(Virtual), April 19, 2021.196ARAGPT2: Pre-T rained Transformer\\nfor Arabic Language Generation\\nWissam Antoun and </span>\n",
       "<span style=\"color: #008000; text-decoration-color: #008000\">Fady Baly and Hazem Hajj\\nAmerican University of Beirut\\n{wfa07, fbg06, hh63 }@aub.edu.lb\\nAbstract\\nRecently, </span>\n",
       "<span style=\"color: #008000; text-decoration-color: #008000\">pre-trained transformer-based archi-\\ntectures have proven to be very efﬁcient atlanguage modeling and </span>\n",
       "<span style=\"color: #008000; text-decoration-color: #008000\">understanding, giventhat they are trained on a large enough cor-pus. Applications in language generation </span>\n",
       "<span style=\"color: #008000; text-decoration-color: #008000\">for\\nArabic are still lagging in comparison to other\\nNLP advances primarily due to the lack ofadvanced Arabic </span>\n",
       "<span style=\"color: #008000; text-decoration-color: #008000\">language generation models.In this paper, we develop the ﬁrst advanced\\nArabic language generation model, </span>\n",
       "<span style=\"color: #008000; text-decoration-color: #008000\">AraGPT2,\\ntrained from scratch on a large Arabic corpusof internet text and news articles. Our largest\\nmodel, </span>\n",
       "<span style=\"color: #008000; text-decoration-color: #008000\">A\\nRAGPT2- MEGA , has 1.46 billion pa-\\nrameters, which makes it the largest Arabiclanguage model available. </span>\n",
       "<span style=\"color: #008000; text-decoration-color: #008000\">The\\nMEGA model\\nwas evaluated and showed success on different\\ntasks including synthetic news generation, </span>\n",
       "<span style=\"color: #008000; text-decoration-color: #008000\">andzero-shot question answering. For text gener-\\nation, our best model achieves a perplexity of\\n29.8 on held-out </span>\n",
       "<span style=\"color: #008000; text-decoration-color: #008000\">Wikipedia articles. A studyconducted with human evaluators showed thesigniﬁcant success of AraGPT2-mega in </span>\n",
       "<span style=\"color: #008000; text-decoration-color: #008000\">gen-erating news articles that are difﬁcult to dis-tinguish from articles written by humans. Wethus develop and </span>\n",
       "<span style=\"color: #008000; text-decoration-color: #008000\">release an automatic discrim-inator model with a 98% percent accuracy indetecting model-generated text. The </span>\n",
       "<span style=\"color: #008000; text-decoration-color: #008000\">modelsare also publicly available\\n1, hoping to encour-\\nage new research directions and applicationsfor Arabic </span>\n",
       "<span style=\"color: #008000; text-decoration-color: #008000\">NLP.\\n1 Introduction\\nFew years ago, Natural language processing\\n(NLP) was revolutionized with the </span>\n",
       "<span style=\"color: #008000; text-decoration-color: #008000\">introduction\\nof multi-head self-attention transformer architec-ture ( Vaswani et al. ,2017 ). The </span>\n",
       "<span style=\"color: #008000; text-decoration-color: #008000\">transformer\\nachieved superior performance compared to recur-\\nrent neural networks several NLP tasks </span>\n",
       "<span style=\"color: #008000; text-decoration-color: #008000\">including\\nmachine translation, sentence classiﬁcation with\\n1Pretrained variants of A RAGPT2 (base, </span>\n",
       "<span style=\"color: #008000; text-decoration-color: #008000\">medium,\\nlarge, mega) and discriminator are publicly available </span>\n",
       "<span style=\"color: #008000; text-decoration-color: #008000\">on\\ngithub.com/aub-mind/arabert/tree/master/aragpt2BERT ( Devlin et al. ,2019 ), and ELECTRA ( Clark\\net al. ,2020b</span>\n",
       "<span style=\"color: #008000; text-decoration-color: #008000\">), and sentence completion with GPT-\\n2(Radford et al. ,2019 ), GROVER ( Zellers et al. ,\\n2019 ), and CTRL ( </span>\n",
       "<span style=\"color: #008000; text-decoration-color: #008000\">Keskar et al. ,2019 ). Recent\\nworks have shown that larger models pre-trained\\non larger datasets can further </span>\n",
       "<span style=\"color: #008000; text-decoration-color: #008000\">improve performancei.e. RoBERTa ( Liu et al. ,2019 ), and XLM-R ( Con-\\nneau et al. ,2019 ).\\nOn the other hand, </span>\n",
       "<span style=\"color: #008000; text-decoration-color: #008000\">work on Arabic language\\nmodeling has mostly targeted natural language\\nunderstanding (NLU) by pre-training </span>\n",
       "<span style=\"color: #008000; text-decoration-color: #008000\">transformer-\\nbased models using the Masked Language Model-\\ning (MLM) task i.e. A RABERT ( Antoun et al. ,\\n2020a </span>\n",
       "<span style=\"color: #008000; text-decoration-color: #008000\">). In contrast, Arabic text generation or\\ncausal language modeling hasn’t received much\\nattention. Few works such</span>\n",
       "<span style=\"color: #008000; text-decoration-color: #008000\">as hULMonA ( ElJundi\\net al. ,2019 ) used next word prediction as a pre-\\ntraining task in for transfer learning in</span>\n",
       "<span style=\"color: #008000; text-decoration-color: #008000\">Arabic text\\nclassiﬁcation. ( Khooli ,2020 ) and ( Doiron ,2020 )\\nleveraged the existing GPT2 English model </span>\n",
       "<span style=\"color: #008000; text-decoration-color: #008000\">andadapted it for Arabic using text from the Arabic\\nWikipedia dumps, which is sub-optimal for Arabic.\\nIn this </span>\n",
       "<span style=\"color: #008000; text-decoration-color: #008000\">paper, the ﬁrst advanced language gener-\\nation models built from the grounds up on Arabic\\nlanguage have been </span>\n",
       "<span style=\"color: #008000; text-decoration-color: #008000\">developed. The process of pre-\\ntraining A RAGPT2, a GPT -2 transformer model\\nfor the Arabic language is </span>\n",
       "<span style=\"color: #008000; text-decoration-color: #008000\">described. The modelcomes in 4 size variants:\\nbase (135M2),medium\\n(370M), large (792M) and mega (1.46B3), </span>\n",
       "<span style=\"color: #008000; text-decoration-color: #008000\">which\\nallows the exploration of A RAGPT2 in multiple ap-\\nplications with different data availability and </span>\n",
       "<span style=\"color: #008000; text-decoration-color: #008000\">com-\\nputational constraints. The perplexity measure is\\nused to automatically evaluate A RAGPT2. Fur-\\nthermore, a</span>\n",
       "<span style=\"color: #008000; text-decoration-color: #008000\">human-based evaluation is provided,\\nwhich highlights the ability of A RAGPT2 to de-\\nceive human evaluators. </span>\n",
       "<span style=\"color: #008000; text-decoration-color: #008000\">Finally, an A RAELEC-\\nTRA ( Antoun et al. ,2020b ) based detector is devel-\\n2Million Parameters\\n3Billion </span>\n",
       "<span style=\"color: #008000; text-decoration-color: #008000\">Parameters'</span>,\n",
       "    <span style=\"color: #808000; text-decoration-color: #808000\">mimetype</span>=<span style=\"color: #008000; text-decoration-color: #008000\">'text/plain'</span>,\n",
       "    <span style=\"color: #808000; text-decoration-color: #808000\">start_char_idx</span>=<span style=\"color: #800080; text-decoration-color: #800080; font-style: italic\">None</span>,\n",
       "    <span style=\"color: #808000; text-decoration-color: #808000\">end_char_idx</span>=<span style=\"color: #800080; text-decoration-color: #800080; font-style: italic\">None</span>,\n",
       "    <span style=\"color: #808000; text-decoration-color: #808000\">text_template</span>=<span style=\"color: #008000; text-decoration-color: #008000\">'{metadata_str}\\n\\n{content}'</span>,\n",
       "    <span style=\"color: #808000; text-decoration-color: #808000\">metadata_template</span>=<span style=\"color: #008000; text-decoration-color: #008000\">'{key}: {value}'</span>,\n",
       "    <span style=\"color: #808000; text-decoration-color: #808000\">metadata_seperator</span>=<span style=\"color: #008000; text-decoration-color: #008000\">'\\n'</span>\n",
       "<span style=\"font-weight: bold\">)</span>\n",
       "</pre>\n"
      ],
      "text/plain": [
       "\u001b[1;35mDocument\u001b[0m\u001b[1m(\u001b[0m\n",
       "    \u001b[33mid_\u001b[0m=\u001b[32m'a95827cd-165c-4d83-9121-26a2792a860f'\u001b[0m,\n",
       "    \u001b[33membedding\u001b[0m=\u001b[3;35mNone\u001b[0m,\n",
       "    \u001b[33mmetadata\u001b[0m=\u001b[1m{\u001b[0m\n",
       "        \u001b[32m'page_label'\u001b[0m: \u001b[32m'1'\u001b[0m,\n",
       "        \u001b[32m'file_name'\u001b[0m: \u001b[32m'aragpt2.pdf'\u001b[0m,\n",
       "        \u001b[32m'file_path'\u001b[0m: \u001b[32m'data/aragpt2.pdf'\u001b[0m,\n",
       "        \u001b[32m'file_type'\u001b[0m: \u001b[32m'application/pdf'\u001b[0m,\n",
       "        \u001b[32m'file_size'\u001b[0m: \u001b[1;36m457776\u001b[0m,\n",
       "        \u001b[32m'creation_date'\u001b[0m: \u001b[32m'2024-11-12'\u001b[0m,\n",
       "        \u001b[32m'last_modified_date'\u001b[0m: \u001b[32m'2024-10-22'\u001b[0m\n",
       "    \u001b[1m}\u001b[0m,\n",
       "    \u001b[33mexcluded_embed_metadata_keys\u001b[0m=\u001b[1m[\u001b[0m\n",
       "        \u001b[32m'file_name'\u001b[0m,\n",
       "        \u001b[32m'file_type'\u001b[0m,\n",
       "        \u001b[32m'file_size'\u001b[0m,\n",
       "        \u001b[32m'creation_date'\u001b[0m,\n",
       "        \u001b[32m'last_modified_date'\u001b[0m,\n",
       "        \u001b[32m'last_accessed_date'\u001b[0m\n",
       "    \u001b[1m]\u001b[0m,\n",
       "    \u001b[33mexcluded_llm_metadata_keys\u001b[0m=\u001b[1m[\u001b[0m\n",
       "        \u001b[32m'file_name'\u001b[0m,\n",
       "        \u001b[32m'file_type'\u001b[0m,\n",
       "        \u001b[32m'file_size'\u001b[0m,\n",
       "        \u001b[32m'creation_date'\u001b[0m,\n",
       "        \u001b[32m'last_modified_date'\u001b[0m,\n",
       "        \u001b[32m'last_accessed_date'\u001b[0m\n",
       "    \u001b[1m]\u001b[0m,\n",
       "    \u001b[33mrelationships\u001b[0m=\u001b[1m{\u001b[0m\u001b[1m}\u001b[0m,\n",
       "    \u001b[33mtext\u001b[0m=\u001b[32m'Proceedings of the Sixth Arabic Natural Language Processing Workshop , pages 196–207\\nKyiv, Ukraine \u001b[0m\n",
       "\u001b[32m(\u001b[0m\u001b[32mVirtual\u001b[0m\u001b[32m)\u001b[0m\u001b[32m, April 19, 2021.196ARAGPT2: Pre-T rained Transformer\\nfor Arabic Language Generation\\nWissam Antoun and \u001b[0m\n",
       "\u001b[32mFady Baly and Hazem Hajj\\nAmerican University of Beirut\\n\u001b[0m\u001b[32m{\u001b[0m\u001b[32mwfa07, fbg06, hh63 \u001b[0m\u001b[32m}\u001b[0m\u001b[32m@aub.edu.lb\\nAbstract\\nRecently, \u001b[0m\n",
       "\u001b[32mpre-trained transformer-based archi-\\ntectures have proven to be very efﬁcient atlanguage modeling and \u001b[0m\n",
       "\u001b[32munderstanding, giventhat they are trained on a large enough cor-pus. Applications in language generation \u001b[0m\n",
       "\u001b[32mfor\\nArabic are still lagging in comparison to other\\nNLP advances primarily due to the lack ofadvanced Arabic \u001b[0m\n",
       "\u001b[32mlanguage generation models.In this paper, we develop the ﬁrst advanced\\nArabic language generation model, \u001b[0m\n",
       "\u001b[32mAraGPT2,\\ntrained from scratch on a large Arabic corpusof internet text and news articles. Our largest\\nmodel, \u001b[0m\n",
       "\u001b[32mA\\nRAGPT2- MEGA , has 1.46 billion pa-\\nrameters, which makes it the largest Arabiclanguage model available. \u001b[0m\n",
       "\u001b[32mThe\\nMEGA model\\nwas evaluated and showed success on different\\ntasks including synthetic news generation, \u001b[0m\n",
       "\u001b[32mandzero-shot question answering. For text gener-\\nation, our best model achieves a perplexity of\\n29.8 on held-out \u001b[0m\n",
       "\u001b[32mWikipedia articles. A studyconducted with human evaluators showed thesigniﬁcant success of AraGPT2-mega in \u001b[0m\n",
       "\u001b[32mgen-erating news articles that are difﬁcult to dis-tinguish from articles written by humans. Wethus develop and \u001b[0m\n",
       "\u001b[32mrelease an automatic discrim-inator model with a 98% percent accuracy indetecting model-generated text. The \u001b[0m\n",
       "\u001b[32mmodelsare also publicly available\\n1, hoping to encour-\\nage new research directions and applicationsfor Arabic \u001b[0m\n",
       "\u001b[32mNLP.\\n1 Introduction\\nFew years ago, Natural language processing\\n\u001b[0m\u001b[32m(\u001b[0m\u001b[32mNLP\u001b[0m\u001b[32m)\u001b[0m\u001b[32m was revolutionized with the \u001b[0m\n",
       "\u001b[32mintroduction\\nof multi-head self-attention transformer architec-ture \u001b[0m\u001b[32m(\u001b[0m\u001b[32m Vaswani et al. ,2017 \u001b[0m\u001b[32m)\u001b[0m\u001b[32m. The \u001b[0m\n",
       "\u001b[32mtransformer\\nachieved superior performance compared to recur-\\nrent neural networks several NLP tasks \u001b[0m\n",
       "\u001b[32mincluding\\nmachine translation, sentence classiﬁcation with\\n1Pretrained variants of A RAGPT2 \u001b[0m\u001b[32m(\u001b[0m\u001b[32mbase, \u001b[0m\n",
       "\u001b[32mmedium,\\nlarge, mega\u001b[0m\u001b[32m)\u001b[0m\u001b[32m and discriminator are publicly available \u001b[0m\n",
       "\u001b[32mon\\ngithub.com/aub-mind/arabert/tree/master/aragpt2BERT \u001b[0m\u001b[32m(\u001b[0m\u001b[32m Devlin et al. ,2019 \u001b[0m\u001b[32m)\u001b[0m\u001b[32m, and ELECTRA \u001b[0m\u001b[32m(\u001b[0m\u001b[32m Clark\\net al. ,2020b\u001b[0m\n",
       "\u001b[32m)\u001b[0m\u001b[32m, and sentence completion with GPT-\\n2\u001b[0m\u001b[32m(\u001b[0m\u001b[32mRadford et al. ,2019 \u001b[0m\u001b[32m)\u001b[0m\u001b[32m, GROVER \u001b[0m\u001b[32m(\u001b[0m\u001b[32m Zellers et al. ,\\n2019 \u001b[0m\u001b[32m)\u001b[0m\u001b[32m, and CTRL \u001b[0m\u001b[32m(\u001b[0m\u001b[32m \u001b[0m\n",
       "\u001b[32mKeskar et al. ,2019 \u001b[0m\u001b[32m)\u001b[0m\u001b[32m. Recent\\nworks have shown that larger models pre-trained\\non larger datasets can further \u001b[0m\n",
       "\u001b[32mimprove performancei.e. RoBERTa \u001b[0m\u001b[32m(\u001b[0m\u001b[32m Liu et al. ,2019 \u001b[0m\u001b[32m)\u001b[0m\u001b[32m, and XLM-R \u001b[0m\u001b[32m(\u001b[0m\u001b[32m Con-\\nneau et al. ,2019 \u001b[0m\u001b[32m)\u001b[0m\u001b[32m.\\nOn the other hand, \u001b[0m\n",
       "\u001b[32mwork on Arabic language\\nmodeling has mostly targeted natural language\\nunderstanding \u001b[0m\u001b[32m(\u001b[0m\u001b[32mNLU\u001b[0m\u001b[32m)\u001b[0m\u001b[32m by pre-training \u001b[0m\n",
       "\u001b[32mtransformer-\\nbased models using the Masked Language Model-\\ning \u001b[0m\u001b[32m(\u001b[0m\u001b[32mMLM\u001b[0m\u001b[32m)\u001b[0m\u001b[32m task i.e. A RABERT \u001b[0m\u001b[32m(\u001b[0m\u001b[32m Antoun et al. ,\\n2020a \u001b[0m\n",
       "\u001b[32m)\u001b[0m\u001b[32m. In contrast, Arabic text generation or\\ncausal language modeling hasn’t received much\\nattention. Few works such\u001b[0m\n",
       "\u001b[32mas hULMonA \u001b[0m\u001b[32m(\u001b[0m\u001b[32m ElJundi\\net al. ,2019 \u001b[0m\u001b[32m)\u001b[0m\u001b[32m used next word prediction as a pre-\\ntraining task in for transfer learning in\u001b[0m\n",
       "\u001b[32mArabic text\\nclassiﬁcation. \u001b[0m\u001b[32m(\u001b[0m\u001b[32m Khooli ,2020 \u001b[0m\u001b[32m)\u001b[0m\u001b[32m and \u001b[0m\u001b[32m(\u001b[0m\u001b[32m Doiron ,2020 \u001b[0m\u001b[32m)\u001b[0m\u001b[32m\\nleveraged the existing GPT2 English model \u001b[0m\n",
       "\u001b[32mandadapted it for Arabic using text from the Arabic\\nWikipedia dumps, which is sub-optimal for Arabic.\\nIn this \u001b[0m\n",
       "\u001b[32mpaper, the ﬁrst advanced language gener-\\nation models built from the grounds up on Arabic\\nlanguage have been \u001b[0m\n",
       "\u001b[32mdeveloped. The process of pre-\\ntraining A RAGPT2, a GPT -2 transformer model\\nfor the Arabic language is \u001b[0m\n",
       "\u001b[32mdescribed. The modelcomes in 4 size variants:\\nbase \u001b[0m\u001b[32m(\u001b[0m\u001b[32m135M2\u001b[0m\u001b[32m)\u001b[0m\u001b[32m,medium\\n\u001b[0m\u001b[32m(\u001b[0m\u001b[32m370M\u001b[0m\u001b[32m)\u001b[0m\u001b[32m, large \u001b[0m\u001b[32m(\u001b[0m\u001b[32m792M\u001b[0m\u001b[32m)\u001b[0m\u001b[32m and mega \u001b[0m\u001b[32m(\u001b[0m\u001b[32m1.46B3\u001b[0m\u001b[32m)\u001b[0m\u001b[32m, \u001b[0m\n",
       "\u001b[32mwhich\\nallows the exploration of A RAGPT2 in multiple ap-\\nplications with different data availability and \u001b[0m\n",
       "\u001b[32mcom-\\nputational constraints. The perplexity measure is\\nused to automatically evaluate A RAGPT2. Fur-\\nthermore, a\u001b[0m\n",
       "\u001b[32mhuman-based evaluation is provided,\\nwhich highlights the ability of A RAGPT2 to de-\\nceive human evaluators. \u001b[0m\n",
       "\u001b[32mFinally, an A RAELEC-\\nTRA \u001b[0m\u001b[32m(\u001b[0m\u001b[32m Antoun et al. ,2020b \u001b[0m\u001b[32m)\u001b[0m\u001b[32m based detector is devel-\\n2Million Parameters\\n3Billion \u001b[0m\n",
       "\u001b[32mParameters'\u001b[0m,\n",
       "    \u001b[33mmimetype\u001b[0m=\u001b[32m'text/plain'\u001b[0m,\n",
       "    \u001b[33mstart_char_idx\u001b[0m=\u001b[3;35mNone\u001b[0m,\n",
       "    \u001b[33mend_char_idx\u001b[0m=\u001b[3;35mNone\u001b[0m,\n",
       "    \u001b[33mtext_template\u001b[0m=\u001b[32m'\u001b[0m\u001b[32m{\u001b[0m\u001b[32mmetadata_str\u001b[0m\u001b[32m}\u001b[0m\u001b[32m\\n\\n\u001b[0m\u001b[32m{\u001b[0m\u001b[32mcontent\u001b[0m\u001b[32m}\u001b[0m\u001b[32m'\u001b[0m,\n",
       "    \u001b[33mmetadata_template\u001b[0m=\u001b[32m'\u001b[0m\u001b[32m{\u001b[0m\u001b[32mkey\u001b[0m\u001b[32m}\u001b[0m\u001b[32m: \u001b[0m\u001b[32m{\u001b[0m\u001b[32mvalue\u001b[0m\u001b[32m}\u001b[0m\u001b[32m'\u001b[0m,\n",
       "    \u001b[33mmetadata_seperator\u001b[0m=\u001b[32m'\\n'\u001b[0m\n",
       "\u001b[1m)\u001b[0m\n"
      ]
     },
     "metadata": {},
     "output_type": "display_data"
    }
   ],
   "source": [
    "print(documents[0])"
   ]
  },
  {
   "cell_type": "code",
   "execution_count": 6,
   "metadata": {},
   "outputs": [],
   "source": [
    "from llama_index.core.node_parser import SentenceSplitter\n",
    "\n",
    "sentence_splitter = SentenceSplitter(chunk_size=512, chunk_overlap=32)\n",
    "nodes = sentence_splitter.get_nodes_from_documents(documents)"
   ]
  },
  {
   "cell_type": "code",
   "execution_count": 7,
   "metadata": {},
   "outputs": [
    {
     "data": {
      "text/html": [
       "<pre style=\"white-space:pre;overflow-x:auto;line-height:normal;font-family:Menlo,'DejaVu Sans Mono',consolas,'Courier New',monospace\"><span style=\"color: #008080; text-decoration-color: #008080; font-weight: bold\">89</span>\n",
       "</pre>\n"
      ],
      "text/plain": [
       "\u001b[1;36m89\u001b[0m\n"
      ]
     },
     "metadata": {},
     "output_type": "display_data"
    },
    {
     "data": {
      "text/html": [
       "<pre style=\"white-space:pre;overflow-x:auto;line-height:normal;font-family:Menlo,'DejaVu Sans Mono',consolas,'Courier New',monospace\"><span style=\"color: #800080; text-decoration-color: #800080; font-weight: bold\">TextNode</span><span style=\"font-weight: bold\">(</span>\n",
       "    <span style=\"color: #808000; text-decoration-color: #808000\">id_</span>=<span style=\"color: #008000; text-decoration-color: #008000\">'e198b637-c172-4b4c-9c79-bcb5fff93df0'</span>,\n",
       "    <span style=\"color: #808000; text-decoration-color: #808000\">embedding</span>=<span style=\"color: #800080; text-decoration-color: #800080; font-style: italic\">None</span>,\n",
       "    <span style=\"color: #808000; text-decoration-color: #808000\">metadata</span>=<span style=\"font-weight: bold\">{</span>\n",
       "        <span style=\"color: #008000; text-decoration-color: #008000\">'page_label'</span>: <span style=\"color: #008000; text-decoration-color: #008000\">'1'</span>,\n",
       "        <span style=\"color: #008000; text-decoration-color: #008000\">'file_name'</span>: <span style=\"color: #008000; text-decoration-color: #008000\">'aragpt2.pdf'</span>,\n",
       "        <span style=\"color: #008000; text-decoration-color: #008000\">'file_path'</span>: <span style=\"color: #008000; text-decoration-color: #008000\">'data/aragpt2.pdf'</span>,\n",
       "        <span style=\"color: #008000; text-decoration-color: #008000\">'file_type'</span>: <span style=\"color: #008000; text-decoration-color: #008000\">'application/pdf'</span>,\n",
       "        <span style=\"color: #008000; text-decoration-color: #008000\">'file_size'</span>: <span style=\"color: #008080; text-decoration-color: #008080; font-weight: bold\">457776</span>,\n",
       "        <span style=\"color: #008000; text-decoration-color: #008000\">'creation_date'</span>: <span style=\"color: #008000; text-decoration-color: #008000\">'2024-11-12'</span>,\n",
       "        <span style=\"color: #008000; text-decoration-color: #008000\">'last_modified_date'</span>: <span style=\"color: #008000; text-decoration-color: #008000\">'2024-10-22'</span>\n",
       "    <span style=\"font-weight: bold\">}</span>,\n",
       "    <span style=\"color: #808000; text-decoration-color: #808000\">excluded_embed_metadata_keys</span>=<span style=\"font-weight: bold\">[</span>\n",
       "        <span style=\"color: #008000; text-decoration-color: #008000\">'file_name'</span>,\n",
       "        <span style=\"color: #008000; text-decoration-color: #008000\">'file_type'</span>,\n",
       "        <span style=\"color: #008000; text-decoration-color: #008000\">'file_size'</span>,\n",
       "        <span style=\"color: #008000; text-decoration-color: #008000\">'creation_date'</span>,\n",
       "        <span style=\"color: #008000; text-decoration-color: #008000\">'last_modified_date'</span>,\n",
       "        <span style=\"color: #008000; text-decoration-color: #008000\">'last_accessed_date'</span>\n",
       "    <span style=\"font-weight: bold\">]</span>,\n",
       "    <span style=\"color: #808000; text-decoration-color: #808000\">excluded_llm_metadata_keys</span>=<span style=\"font-weight: bold\">[</span>\n",
       "        <span style=\"color: #008000; text-decoration-color: #008000\">'file_name'</span>,\n",
       "        <span style=\"color: #008000; text-decoration-color: #008000\">'file_type'</span>,\n",
       "        <span style=\"color: #008000; text-decoration-color: #008000\">'file_size'</span>,\n",
       "        <span style=\"color: #008000; text-decoration-color: #008000\">'creation_date'</span>,\n",
       "        <span style=\"color: #008000; text-decoration-color: #008000\">'last_modified_date'</span>,\n",
       "        <span style=\"color: #008000; text-decoration-color: #008000\">'last_accessed_date'</span>\n",
       "    <span style=\"font-weight: bold\">]</span>,\n",
       "    <span style=\"color: #808000; text-decoration-color: #808000\">relationships</span>=<span style=\"font-weight: bold\">{</span>\n",
       "        <span style=\"font-weight: bold\">&lt;</span><span style=\"color: #ff00ff; text-decoration-color: #ff00ff; font-weight: bold\">NodeRelationship.SOURCE:</span><span style=\"color: #000000; text-decoration-color: #000000\"> </span><span style=\"color: #008000; text-decoration-color: #008000\">'1'</span><span style=\"color: #000000; text-decoration-color: #000000\">&gt;: </span><span style=\"color: #800080; text-decoration-color: #800080; font-weight: bold\">RelatedNodeInfo</span><span style=\"color: #000000; text-decoration-color: #000000; font-weight: bold\">(</span>\n",
       "<span style=\"color: #000000; text-decoration-color: #000000\">            </span><span style=\"color: #808000; text-decoration-color: #808000\">node_id</span><span style=\"color: #000000; text-decoration-color: #000000\">=</span><span style=\"color: #008000; text-decoration-color: #008000\">'a95827cd-165c-4d83-9121-26a2792a860f'</span><span style=\"color: #000000; text-decoration-color: #000000\">,</span>\n",
       "<span style=\"color: #000000; text-decoration-color: #000000\">            </span><span style=\"color: #808000; text-decoration-color: #808000\">node_type</span><span style=\"color: #000000; text-decoration-color: #000000\">=&lt;ObjectType.DOCUMENT: </span><span style=\"color: #008000; text-decoration-color: #008000\">'4'</span><span style=\"color: #000000; text-decoration-color: #000000\">&gt;,</span>\n",
       "<span style=\"color: #000000; text-decoration-color: #000000\">            </span><span style=\"color: #808000; text-decoration-color: #808000\">metadata</span><span style=\"color: #000000; text-decoration-color: #000000\">=</span><span style=\"color: #000000; text-decoration-color: #000000; font-weight: bold\">{</span>\n",
       "<span style=\"color: #000000; text-decoration-color: #000000\">                </span><span style=\"color: #008000; text-decoration-color: #008000\">'page_label'</span><span style=\"color: #000000; text-decoration-color: #000000\">: </span><span style=\"color: #008000; text-decoration-color: #008000\">'1'</span><span style=\"color: #000000; text-decoration-color: #000000\">,</span>\n",
       "<span style=\"color: #000000; text-decoration-color: #000000\">                </span><span style=\"color: #008000; text-decoration-color: #008000\">'file_name'</span><span style=\"color: #000000; text-decoration-color: #000000\">: </span><span style=\"color: #008000; text-decoration-color: #008000\">'aragpt2.pdf'</span><span style=\"color: #000000; text-decoration-color: #000000\">,</span>\n",
       "<span style=\"color: #000000; text-decoration-color: #000000\">                </span><span style=\"color: #008000; text-decoration-color: #008000\">'file_path'</span><span style=\"color: #000000; text-decoration-color: #000000\">: </span><span style=\"color: #008000; text-decoration-color: #008000\">'data/aragpt2.pdf'</span><span style=\"color: #000000; text-decoration-color: #000000\">,</span>\n",
       "<span style=\"color: #000000; text-decoration-color: #000000\">                </span><span style=\"color: #008000; text-decoration-color: #008000\">'file_type'</span><span style=\"color: #000000; text-decoration-color: #000000\">: </span><span style=\"color: #008000; text-decoration-color: #008000\">'application/pdf'</span><span style=\"color: #000000; text-decoration-color: #000000\">,</span>\n",
       "<span style=\"color: #000000; text-decoration-color: #000000\">                </span><span style=\"color: #008000; text-decoration-color: #008000\">'file_size'</span><span style=\"color: #000000; text-decoration-color: #000000\">: </span><span style=\"color: #008080; text-decoration-color: #008080; font-weight: bold\">457776</span><span style=\"color: #000000; text-decoration-color: #000000\">,</span>\n",
       "<span style=\"color: #000000; text-decoration-color: #000000\">                </span><span style=\"color: #008000; text-decoration-color: #008000\">'creation_date'</span><span style=\"color: #000000; text-decoration-color: #000000\">: </span><span style=\"color: #008000; text-decoration-color: #008000\">'2024-11-12'</span><span style=\"color: #000000; text-decoration-color: #000000\">,</span>\n",
       "<span style=\"color: #000000; text-decoration-color: #000000\">                </span><span style=\"color: #008000; text-decoration-color: #008000\">'last_modified_date'</span><span style=\"color: #000000; text-decoration-color: #000000\">: </span><span style=\"color: #008000; text-decoration-color: #008000\">'2024-10-22'</span>\n",
       "<span style=\"color: #000000; text-decoration-color: #000000\">            </span><span style=\"color: #000000; text-decoration-color: #000000; font-weight: bold\">}</span><span style=\"color: #000000; text-decoration-color: #000000\">,</span>\n",
       "<span style=\"color: #000000; text-decoration-color: #000000\">            </span><span style=\"color: #808000; text-decoration-color: #808000\">hash</span><span style=\"color: #000000; text-decoration-color: #000000\">=</span><span style=\"color: #008000; text-decoration-color: #008000\">'be467e8635c423cf5e905a9469550ed6e5194fba229387b29d1ef0cf335d08de'</span>\n",
       "<span style=\"color: #000000; text-decoration-color: #000000\">        </span><span style=\"color: #000000; text-decoration-color: #000000; font-weight: bold\">)</span><span style=\"color: #000000; text-decoration-color: #000000\">,</span>\n",
       "<span style=\"color: #000000; text-decoration-color: #000000\">        &lt;NodeRelationship.PREVIOUS: </span><span style=\"color: #008000; text-decoration-color: #008000\">'2'</span><span style=\"color: #000000; text-decoration-color: #000000\">&gt;: </span><span style=\"color: #800080; text-decoration-color: #800080; font-weight: bold\">RelatedNodeInfo</span><span style=\"color: #000000; text-decoration-color: #000000; font-weight: bold\">(</span>\n",
       "<span style=\"color: #000000; text-decoration-color: #000000\">            </span><span style=\"color: #808000; text-decoration-color: #808000\">node_id</span><span style=\"color: #000000; text-decoration-color: #000000\">=</span><span style=\"color: #008000; text-decoration-color: #008000\">'9d4dab9f-2ccf-450b-8194-917eda8d6b1d'</span><span style=\"color: #000000; text-decoration-color: #000000\">,</span>\n",
       "<span style=\"color: #000000; text-decoration-color: #000000\">            </span><span style=\"color: #808000; text-decoration-color: #808000\">node_type</span><span style=\"color: #000000; text-decoration-color: #000000\">=&lt;ObjectType.TEXT: </span><span style=\"color: #008000; text-decoration-color: #008000\">'1'</span><span style=\"font-weight: bold\">&gt;</span>,\n",
       "            <span style=\"color: #808000; text-decoration-color: #808000\">metadata</span>=<span style=\"font-weight: bold\">{</span>\n",
       "                <span style=\"color: #008000; text-decoration-color: #008000\">'page_label'</span>: <span style=\"color: #008000; text-decoration-color: #008000\">'1'</span>,\n",
       "                <span style=\"color: #008000; text-decoration-color: #008000\">'file_name'</span>: <span style=\"color: #008000; text-decoration-color: #008000\">'aragpt2.pdf'</span>,\n",
       "                <span style=\"color: #008000; text-decoration-color: #008000\">'file_path'</span>: <span style=\"color: #008000; text-decoration-color: #008000\">'data/aragpt2.pdf'</span>,\n",
       "                <span style=\"color: #008000; text-decoration-color: #008000\">'file_type'</span>: <span style=\"color: #008000; text-decoration-color: #008000\">'application/pdf'</span>,\n",
       "                <span style=\"color: #008000; text-decoration-color: #008000\">'file_size'</span>: <span style=\"color: #008080; text-decoration-color: #008080; font-weight: bold\">457776</span>,\n",
       "                <span style=\"color: #008000; text-decoration-color: #008000\">'creation_date'</span>: <span style=\"color: #008000; text-decoration-color: #008000\">'2024-11-12'</span>,\n",
       "                <span style=\"color: #008000; text-decoration-color: #008000\">'last_modified_date'</span>: <span style=\"color: #008000; text-decoration-color: #008000\">'2024-10-22'</span>\n",
       "            <span style=\"font-weight: bold\">}</span>,\n",
       "            <span style=\"color: #808000; text-decoration-color: #808000\">hash</span>=<span style=\"color: #008000; text-decoration-color: #008000\">'d29e9f18057bb077fc974a135476bbfa465cfbf92c45fa06545fe29f0a9eb880'</span>\n",
       "        <span style=\"font-weight: bold\">)</span>\n",
       "    <span style=\"font-weight: bold\">}</span>,\n",
       "    <span style=\"color: #808000; text-decoration-color: #808000\">text</span>=<span style=\"color: #008000; text-decoration-color: #008000\">'The process of pre-\\ntraining A RAGPT2, a GPT -2 transformer model\\nfor the Arabic language is described.</span>\n",
       "<span style=\"color: #008000; text-decoration-color: #008000\">The modelcomes in 4 size variants:\\nbase (135M2),medium\\n(370M), large (792M) and mega (1.46B3), which\\nallows the </span>\n",
       "<span style=\"color: #008000; text-decoration-color: #008000\">exploration of A RAGPT2 in multiple ap-\\nplications with different data availability and com-\\nputational </span>\n",
       "<span style=\"color: #008000; text-decoration-color: #008000\">constraints. The perplexity measure is\\nused to automatically evaluate A RAGPT2. Fur-\\nthermore, a human-based </span>\n",
       "<span style=\"color: #008000; text-decoration-color: #008000\">evaluation is provided,\\nwhich highlights the ability of A RAGPT2 to de-\\nceive human evaluators. Finally, an A </span>\n",
       "<span style=\"color: #008000; text-decoration-color: #008000\">RAELEC-\\nTRA ( Antoun et al. ,2020b ) based detector is devel-\\n2Million Parameters\\n3Billion Parameters'</span>,\n",
       "    <span style=\"color: #808000; text-decoration-color: #808000\">mimetype</span>=<span style=\"color: #008000; text-decoration-color: #008000\">'text/plain'</span>,\n",
       "    <span style=\"color: #808000; text-decoration-color: #808000\">start_char_idx</span>=<span style=\"color: #008080; text-decoration-color: #008080; font-weight: bold\">3290</span>,\n",
       "    <span style=\"color: #808000; text-decoration-color: #808000\">end_char_idx</span>=<span style=\"color: #008080; text-decoration-color: #008080; font-weight: bold\">3930</span>,\n",
       "    <span style=\"color: #808000; text-decoration-color: #808000\">text_template</span>=<span style=\"color: #008000; text-decoration-color: #008000\">'{metadata_str}\\n\\n{content}'</span>,\n",
       "    <span style=\"color: #808000; text-decoration-color: #808000\">metadata_template</span>=<span style=\"color: #008000; text-decoration-color: #008000\">'{key}: {value}'</span>,\n",
       "    <span style=\"color: #808000; text-decoration-color: #808000\">metadata_seperator</span>=<span style=\"color: #008000; text-decoration-color: #008000\">'\\n'</span>\n",
       "<span style=\"font-weight: bold\">)</span>\n",
       "</pre>\n"
      ],
      "text/plain": [
       "\u001b[1;35mTextNode\u001b[0m\u001b[1m(\u001b[0m\n",
       "    \u001b[33mid_\u001b[0m=\u001b[32m'e198b637-c172-4b4c-9c79-bcb5fff93df0'\u001b[0m,\n",
       "    \u001b[33membedding\u001b[0m=\u001b[3;35mNone\u001b[0m,\n",
       "    \u001b[33mmetadata\u001b[0m=\u001b[1m{\u001b[0m\n",
       "        \u001b[32m'page_label'\u001b[0m: \u001b[32m'1'\u001b[0m,\n",
       "        \u001b[32m'file_name'\u001b[0m: \u001b[32m'aragpt2.pdf'\u001b[0m,\n",
       "        \u001b[32m'file_path'\u001b[0m: \u001b[32m'data/aragpt2.pdf'\u001b[0m,\n",
       "        \u001b[32m'file_type'\u001b[0m: \u001b[32m'application/pdf'\u001b[0m,\n",
       "        \u001b[32m'file_size'\u001b[0m: \u001b[1;36m457776\u001b[0m,\n",
       "        \u001b[32m'creation_date'\u001b[0m: \u001b[32m'2024-11-12'\u001b[0m,\n",
       "        \u001b[32m'last_modified_date'\u001b[0m: \u001b[32m'2024-10-22'\u001b[0m\n",
       "    \u001b[1m}\u001b[0m,\n",
       "    \u001b[33mexcluded_embed_metadata_keys\u001b[0m=\u001b[1m[\u001b[0m\n",
       "        \u001b[32m'file_name'\u001b[0m,\n",
       "        \u001b[32m'file_type'\u001b[0m,\n",
       "        \u001b[32m'file_size'\u001b[0m,\n",
       "        \u001b[32m'creation_date'\u001b[0m,\n",
       "        \u001b[32m'last_modified_date'\u001b[0m,\n",
       "        \u001b[32m'last_accessed_date'\u001b[0m\n",
       "    \u001b[1m]\u001b[0m,\n",
       "    \u001b[33mexcluded_llm_metadata_keys\u001b[0m=\u001b[1m[\u001b[0m\n",
       "        \u001b[32m'file_name'\u001b[0m,\n",
       "        \u001b[32m'file_type'\u001b[0m,\n",
       "        \u001b[32m'file_size'\u001b[0m,\n",
       "        \u001b[32m'creation_date'\u001b[0m,\n",
       "        \u001b[32m'last_modified_date'\u001b[0m,\n",
       "        \u001b[32m'last_accessed_date'\u001b[0m\n",
       "    \u001b[1m]\u001b[0m,\n",
       "    \u001b[33mrelationships\u001b[0m=\u001b[1m{\u001b[0m\n",
       "        \u001b[1m<\u001b[0m\u001b[1;95mNodeRelationship.SOURCE:\u001b[0m\u001b[39m \u001b[0m\u001b[32m'1'\u001b[0m\u001b[39m>: \u001b[0m\u001b[1;35mRelatedNodeInfo\u001b[0m\u001b[1;39m(\u001b[0m\n",
       "\u001b[39m            \u001b[0m\u001b[33mnode_id\u001b[0m\u001b[39m=\u001b[0m\u001b[32m'a95827cd-165c-4d83-9121-26a2792a860f'\u001b[0m\u001b[39m,\u001b[0m\n",
       "\u001b[39m            \u001b[0m\u001b[33mnode_type\u001b[0m\u001b[39m=<ObjectType.DOCUMENT: \u001b[0m\u001b[32m'4'\u001b[0m\u001b[39m>,\u001b[0m\n",
       "\u001b[39m            \u001b[0m\u001b[33mmetadata\u001b[0m\u001b[39m=\u001b[0m\u001b[1;39m{\u001b[0m\n",
       "\u001b[39m                \u001b[0m\u001b[32m'page_label'\u001b[0m\u001b[39m: \u001b[0m\u001b[32m'1'\u001b[0m\u001b[39m,\u001b[0m\n",
       "\u001b[39m                \u001b[0m\u001b[32m'file_name'\u001b[0m\u001b[39m: \u001b[0m\u001b[32m'aragpt2.pdf'\u001b[0m\u001b[39m,\u001b[0m\n",
       "\u001b[39m                \u001b[0m\u001b[32m'file_path'\u001b[0m\u001b[39m: \u001b[0m\u001b[32m'data/aragpt2.pdf'\u001b[0m\u001b[39m,\u001b[0m\n",
       "\u001b[39m                \u001b[0m\u001b[32m'file_type'\u001b[0m\u001b[39m: \u001b[0m\u001b[32m'application/pdf'\u001b[0m\u001b[39m,\u001b[0m\n",
       "\u001b[39m                \u001b[0m\u001b[32m'file_size'\u001b[0m\u001b[39m: \u001b[0m\u001b[1;36m457776\u001b[0m\u001b[39m,\u001b[0m\n",
       "\u001b[39m                \u001b[0m\u001b[32m'creation_date'\u001b[0m\u001b[39m: \u001b[0m\u001b[32m'2024-11-12'\u001b[0m\u001b[39m,\u001b[0m\n",
       "\u001b[39m                \u001b[0m\u001b[32m'last_modified_date'\u001b[0m\u001b[39m: \u001b[0m\u001b[32m'2024-10-22'\u001b[0m\n",
       "\u001b[39m            \u001b[0m\u001b[1;39m}\u001b[0m\u001b[39m,\u001b[0m\n",
       "\u001b[39m            \u001b[0m\u001b[33mhash\u001b[0m\u001b[39m=\u001b[0m\u001b[32m'be467e8635c423cf5e905a9469550ed6e5194fba229387b29d1ef0cf335d08de'\u001b[0m\n",
       "\u001b[39m        \u001b[0m\u001b[1;39m)\u001b[0m\u001b[39m,\u001b[0m\n",
       "\u001b[39m        <NodeRelationship.PREVIOUS: \u001b[0m\u001b[32m'2'\u001b[0m\u001b[39m>: \u001b[0m\u001b[1;35mRelatedNodeInfo\u001b[0m\u001b[1;39m(\u001b[0m\n",
       "\u001b[39m            \u001b[0m\u001b[33mnode_id\u001b[0m\u001b[39m=\u001b[0m\u001b[32m'9d4dab9f-2ccf-450b-8194-917eda8d6b1d'\u001b[0m\u001b[39m,\u001b[0m\n",
       "\u001b[39m            \u001b[0m\u001b[33mnode_type\u001b[0m\u001b[39m=<ObjectType.TEXT: \u001b[0m\u001b[32m'1'\u001b[0m\u001b[1m>\u001b[0m,\n",
       "            \u001b[33mmetadata\u001b[0m=\u001b[1m{\u001b[0m\n",
       "                \u001b[32m'page_label'\u001b[0m: \u001b[32m'1'\u001b[0m,\n",
       "                \u001b[32m'file_name'\u001b[0m: \u001b[32m'aragpt2.pdf'\u001b[0m,\n",
       "                \u001b[32m'file_path'\u001b[0m: \u001b[32m'data/aragpt2.pdf'\u001b[0m,\n",
       "                \u001b[32m'file_type'\u001b[0m: \u001b[32m'application/pdf'\u001b[0m,\n",
       "                \u001b[32m'file_size'\u001b[0m: \u001b[1;36m457776\u001b[0m,\n",
       "                \u001b[32m'creation_date'\u001b[0m: \u001b[32m'2024-11-12'\u001b[0m,\n",
       "                \u001b[32m'last_modified_date'\u001b[0m: \u001b[32m'2024-10-22'\u001b[0m\n",
       "            \u001b[1m}\u001b[0m,\n",
       "            \u001b[33mhash\u001b[0m=\u001b[32m'd29e9f18057bb077fc974a135476bbfa465cfbf92c45fa06545fe29f0a9eb880'\u001b[0m\n",
       "        \u001b[1m)\u001b[0m\n",
       "    \u001b[1m}\u001b[0m,\n",
       "    \u001b[33mtext\u001b[0m=\u001b[32m'The process of pre-\\ntraining A RAGPT2, a GPT -2 transformer model\\nfor the Arabic language is described.\u001b[0m\n",
       "\u001b[32mThe modelcomes in 4 size variants:\\nbase \u001b[0m\u001b[32m(\u001b[0m\u001b[32m135M2\u001b[0m\u001b[32m)\u001b[0m\u001b[32m,medium\\n\u001b[0m\u001b[32m(\u001b[0m\u001b[32m370M\u001b[0m\u001b[32m)\u001b[0m\u001b[32m, large \u001b[0m\u001b[32m(\u001b[0m\u001b[32m792M\u001b[0m\u001b[32m)\u001b[0m\u001b[32m and mega \u001b[0m\u001b[32m(\u001b[0m\u001b[32m1.46B3\u001b[0m\u001b[32m)\u001b[0m\u001b[32m, which\\nallows the \u001b[0m\n",
       "\u001b[32mexploration of A RAGPT2 in multiple ap-\\nplications with different data availability and com-\\nputational \u001b[0m\n",
       "\u001b[32mconstraints. The perplexity measure is\\nused to automatically evaluate A RAGPT2. Fur-\\nthermore, a human-based \u001b[0m\n",
       "\u001b[32mevaluation is provided,\\nwhich highlights the ability of A RAGPT2 to de-\\nceive human evaluators. Finally, an A \u001b[0m\n",
       "\u001b[32mRAELEC-\\nTRA \u001b[0m\u001b[32m(\u001b[0m\u001b[32m Antoun et al. ,2020b \u001b[0m\u001b[32m)\u001b[0m\u001b[32m based detector is devel-\\n2Million Parameters\\n3Billion Parameters'\u001b[0m,\n",
       "    \u001b[33mmimetype\u001b[0m=\u001b[32m'text/plain'\u001b[0m,\n",
       "    \u001b[33mstart_char_idx\u001b[0m=\u001b[1;36m3290\u001b[0m,\n",
       "    \u001b[33mend_char_idx\u001b[0m=\u001b[1;36m3930\u001b[0m,\n",
       "    \u001b[33mtext_template\u001b[0m=\u001b[32m'\u001b[0m\u001b[32m{\u001b[0m\u001b[32mmetadata_str\u001b[0m\u001b[32m}\u001b[0m\u001b[32m\\n\\n\u001b[0m\u001b[32m{\u001b[0m\u001b[32mcontent\u001b[0m\u001b[32m}\u001b[0m\u001b[32m'\u001b[0m,\n",
       "    \u001b[33mmetadata_template\u001b[0m=\u001b[32m'\u001b[0m\u001b[32m{\u001b[0m\u001b[32mkey\u001b[0m\u001b[32m}\u001b[0m\u001b[32m: \u001b[0m\u001b[32m{\u001b[0m\u001b[32mvalue\u001b[0m\u001b[32m}\u001b[0m\u001b[32m'\u001b[0m,\n",
       "    \u001b[33mmetadata_seperator\u001b[0m=\u001b[32m'\\n'\u001b[0m\n",
       "\u001b[1m)\u001b[0m\n"
      ]
     },
     "metadata": {},
     "output_type": "display_data"
    }
   ],
   "source": [
    "print(len(nodes))\n",
    "print(nodes[2])"
   ]
  },
  {
   "cell_type": "markdown",
   "metadata": {},
   "source": [
    "## Define Vector Index\n"
   ]
  },
  {
   "cell_type": "code",
   "execution_count": 8,
   "metadata": {},
   "outputs": [],
   "source": [
    "from llama_index.core import VectorStoreIndex\n",
    "\n",
    "vector_index = VectorStoreIndex(nodes=nodes)"
   ]
  },
  {
   "cell_type": "markdown",
   "metadata": {},
   "source": [
    "## Define Vector Tool with Filters\n"
   ]
  },
  {
   "cell_type": "code",
   "execution_count": 9,
   "metadata": {},
   "outputs": [],
   "source": [
    "from llama_index.core.vector_stores import MetadataFilters\n",
    "\n",
    "# define a filter to get answers from specific pages\n",
    "vector_query_engine = vector_index.as_query_engine(\n",
    "    similarity_top_k=2,\n",
    "    filters=MetadataFilters.from_dicts([{\"key\": \"page_label\", \"value\": \"1\"}])\n",
    ")"
   ]
  },
  {
   "cell_type": "code",
   "execution_count": 10,
   "metadata": {},
   "outputs": [],
   "source": [
    "query = \"What are the AraGPT2 model sizes?\"\n",
    "response = vector_query_engine.query(query)"
   ]
  },
  {
   "cell_type": "code",
   "execution_count": 11,
   "metadata": {},
   "outputs": [
    {
     "data": {
      "text/html": [
       "<pre style=\"white-space:pre;overflow-x:auto;line-height:normal;font-family:Menlo,'DejaVu Sans Mono',consolas,'Courier New',monospace\">The AraGPT2 model comes in <span style=\"color: #008080; text-decoration-color: #008080; font-weight: bold\">4</span> size variants: base <span style=\"font-weight: bold\">(</span>135M<span style=\"font-weight: bold\">)</span>, medium <span style=\"font-weight: bold\">(</span>370M<span style=\"font-weight: bold\">)</span>, large <span style=\"font-weight: bold\">(</span>792M<span style=\"font-weight: bold\">)</span>, and mega <span style=\"font-weight: bold\">(</span><span style=\"color: #008080; text-decoration-color: #008080; font-weight: bold\">1.</span>46B<span style=\"font-weight: bold\">)</span>.\n",
       "</pre>\n"
      ],
      "text/plain": [
       "The AraGPT2 model comes in \u001b[1;36m4\u001b[0m size variants: base \u001b[1m(\u001b[0m135M\u001b[1m)\u001b[0m, medium \u001b[1m(\u001b[0m370M\u001b[1m)\u001b[0m, large \u001b[1m(\u001b[0m792M\u001b[1m)\u001b[0m, and mega \u001b[1m(\u001b[0m\u001b[1;36m1.\u001b[0m46B\u001b[1m)\u001b[0m.\n"
      ]
     },
     "metadata": {},
     "output_type": "display_data"
    }
   ],
   "source": [
    "print(response.response)"
   ]
  },
  {
   "cell_type": "code",
   "execution_count": 12,
   "metadata": {},
   "outputs": [
    {
     "data": {
      "text/html": [
       "<pre style=\"white-space:pre;overflow-x:auto;line-height:normal;font-family:Menlo,'DejaVu Sans Mono',consolas,'Courier New',monospace\"><span style=\"font-weight: bold\">{</span>\n",
       "    <span style=\"color: #008000; text-decoration-color: #008000\">'page_label'</span>: <span style=\"color: #008000; text-decoration-color: #008000\">'1'</span>,\n",
       "    <span style=\"color: #008000; text-decoration-color: #008000\">'file_name'</span>: <span style=\"color: #008000; text-decoration-color: #008000\">'aragpt2.pdf'</span>,\n",
       "    <span style=\"color: #008000; text-decoration-color: #008000\">'file_path'</span>: <span style=\"color: #008000; text-decoration-color: #008000\">'data/aragpt2.pdf'</span>,\n",
       "    <span style=\"color: #008000; text-decoration-color: #008000\">'file_type'</span>: <span style=\"color: #008000; text-decoration-color: #008000\">'application/pdf'</span>,\n",
       "    <span style=\"color: #008000; text-decoration-color: #008000\">'file_size'</span>: <span style=\"color: #008080; text-decoration-color: #008080; font-weight: bold\">457776</span>,\n",
       "    <span style=\"color: #008000; text-decoration-color: #008000\">'creation_date'</span>: <span style=\"color: #008000; text-decoration-color: #008000\">'2024-11-12'</span>,\n",
       "    <span style=\"color: #008000; text-decoration-color: #008000\">'last_modified_date'</span>: <span style=\"color: #008000; text-decoration-color: #008000\">'2024-10-22'</span>\n",
       "<span style=\"font-weight: bold\">}</span>\n",
       "</pre>\n"
      ],
      "text/plain": [
       "\u001b[1m{\u001b[0m\n",
       "    \u001b[32m'page_label'\u001b[0m: \u001b[32m'1'\u001b[0m,\n",
       "    \u001b[32m'file_name'\u001b[0m: \u001b[32m'aragpt2.pdf'\u001b[0m,\n",
       "    \u001b[32m'file_path'\u001b[0m: \u001b[32m'data/aragpt2.pdf'\u001b[0m,\n",
       "    \u001b[32m'file_type'\u001b[0m: \u001b[32m'application/pdf'\u001b[0m,\n",
       "    \u001b[32m'file_size'\u001b[0m: \u001b[1;36m457776\u001b[0m,\n",
       "    \u001b[32m'creation_date'\u001b[0m: \u001b[32m'2024-11-12'\u001b[0m,\n",
       "    \u001b[32m'last_modified_date'\u001b[0m: \u001b[32m'2024-10-22'\u001b[0m\n",
       "\u001b[1m}\u001b[0m\n"
      ]
     },
     "metadata": {},
     "output_type": "display_data"
    },
    {
     "data": {
      "text/html": [
       "<pre style=\"white-space:pre;overflow-x:auto;line-height:normal;font-family:Menlo,'DejaVu Sans Mono',consolas,'Courier New',monospace\"><span style=\"font-weight: bold\">{</span>\n",
       "    <span style=\"color: #008000; text-decoration-color: #008000\">'page_label'</span>: <span style=\"color: #008000; text-decoration-color: #008000\">'1'</span>,\n",
       "    <span style=\"color: #008000; text-decoration-color: #008000\">'file_name'</span>: <span style=\"color: #008000; text-decoration-color: #008000\">'aragpt2.pdf'</span>,\n",
       "    <span style=\"color: #008000; text-decoration-color: #008000\">'file_path'</span>: <span style=\"color: #008000; text-decoration-color: #008000\">'data/aragpt2.pdf'</span>,\n",
       "    <span style=\"color: #008000; text-decoration-color: #008000\">'file_type'</span>: <span style=\"color: #008000; text-decoration-color: #008000\">'application/pdf'</span>,\n",
       "    <span style=\"color: #008000; text-decoration-color: #008000\">'file_size'</span>: <span style=\"color: #008080; text-decoration-color: #008080; font-weight: bold\">457776</span>,\n",
       "    <span style=\"color: #008000; text-decoration-color: #008000\">'creation_date'</span>: <span style=\"color: #008000; text-decoration-color: #008000\">'2024-11-12'</span>,\n",
       "    <span style=\"color: #008000; text-decoration-color: #008000\">'last_modified_date'</span>: <span style=\"color: #008000; text-decoration-color: #008000\">'2024-10-22'</span>\n",
       "<span style=\"font-weight: bold\">}</span>\n",
       "</pre>\n"
      ],
      "text/plain": [
       "\u001b[1m{\u001b[0m\n",
       "    \u001b[32m'page_label'\u001b[0m: \u001b[32m'1'\u001b[0m,\n",
       "    \u001b[32m'file_name'\u001b[0m: \u001b[32m'aragpt2.pdf'\u001b[0m,\n",
       "    \u001b[32m'file_path'\u001b[0m: \u001b[32m'data/aragpt2.pdf'\u001b[0m,\n",
       "    \u001b[32m'file_type'\u001b[0m: \u001b[32m'application/pdf'\u001b[0m,\n",
       "    \u001b[32m'file_size'\u001b[0m: \u001b[1;36m457776\u001b[0m,\n",
       "    \u001b[32m'creation_date'\u001b[0m: \u001b[32m'2024-11-12'\u001b[0m,\n",
       "    \u001b[32m'last_modified_date'\u001b[0m: \u001b[32m'2024-10-22'\u001b[0m\n",
       "\u001b[1m}\u001b[0m\n"
      ]
     },
     "metadata": {},
     "output_type": "display_data"
    }
   ],
   "source": [
    "for n in response.source_nodes:\n",
    "    print(n.metadata)"
   ]
  },
  {
   "cell_type": "code",
   "execution_count": 13,
   "metadata": {},
   "outputs": [],
   "source": [
    "from llama_index.core.vector_stores import FilterCondition\n",
    "\n",
    "# defining a vectro query fn that will limit the query to a certain page\n",
    "# type hints and docs are a must when defining LLM tools\n",
    "\n",
    "\n",
    "def query_vector_engine(query: str, page_numbers: list[str]):\n",
    "    \"\"\"Perform vector search over an index.\n",
    "    \n",
    "    inputs:\n",
    "        query (str): the string query to be embedded.\n",
    "        page_numbers (list[str]): filter by set of pages. leave BLANK if we want to \\\n",
    "perform a vector search over all pages. otherwise, filter by the set of specified pages.\n",
    "    \"\"\"\n",
    "    metadata_dicts = [\n",
    "        {\"key\": \"page_label\", \"value\": page_number} for page_number in page_numbers\n",
    "    ]\n",
    "    query_engine = vector_index.as_query_engine(\n",
    "        similarity_top_k=2,\n",
    "        filters=MetadataFilters.from_dicts(\n",
    "            metadata_dicts, condition=FilterCondition.OR\n",
    "        ),\n",
    "    )\n",
    "    response = query_engine.query(query)\n",
    "    return response"
   ]
  },
  {
   "cell_type": "code",
   "execution_count": 14,
   "metadata": {},
   "outputs": [],
   "source": [
    "from llama_index.core.tools import FunctionTool\n",
    "\n",
    "query_vector_engine_tool = FunctionTool.from_defaults(\n",
    "    fn=query_vector_engine, name=\"query_vector_engine_tool\"\n",
    ")"
   ]
  },
  {
   "cell_type": "code",
   "execution_count": 15,
   "metadata": {},
   "outputs": [],
   "source": [
    "from llama_index.llms.openai import OpenAI\n",
    "\n",
    "llm = OpenAI(model=GENERATION_MODEL_ID)"
   ]
  },
  {
   "cell_type": "code",
   "execution_count": 16,
   "metadata": {},
   "outputs": [
    {
     "name": "stdout",
     "output_type": "stream",
     "text": [
      "=== Calling Function ===\n",
      "Calling function: query_vector_engine_tool with args: {\"query\": \"AraGPT2 model sizes\", \"page_numbers\": [\"1\"]}\n",
      "=== Function Output ===\n",
      "The AraGPT2 model comes in 4 size variants: base (135M), medium (370M), large (792M), and mega (1.46B).\n"
     ]
    }
   ],
   "source": [
    "query = \"What are the AraGPT2 model sizes described in page number 1?\"\n",
    "response = llm.predict_and_call(\n",
    "    tools=[query_vector_engine_tool], verbose=True, user_msg=query\n",
    ")"
   ]
  },
  {
   "cell_type": "code",
   "execution_count": 17,
   "metadata": {},
   "outputs": [
    {
     "data": {
      "text/html": [
       "<pre style=\"white-space:pre;overflow-x:auto;line-height:normal;font-family:Menlo,'DejaVu Sans Mono',consolas,'Courier New',monospace\">The AraGPT2 model comes in <span style=\"color: #008080; text-decoration-color: #008080; font-weight: bold\">4</span> size variants: base <span style=\"font-weight: bold\">(</span>135M<span style=\"font-weight: bold\">)</span>, medium <span style=\"font-weight: bold\">(</span>370M<span style=\"font-weight: bold\">)</span>, large <span style=\"font-weight: bold\">(</span>792M<span style=\"font-weight: bold\">)</span>, and mega <span style=\"font-weight: bold\">(</span><span style=\"color: #008080; text-decoration-color: #008080; font-weight: bold\">1.</span>46B<span style=\"font-weight: bold\">)</span>.\n",
       "</pre>\n"
      ],
      "text/plain": [
       "The AraGPT2 model comes in \u001b[1;36m4\u001b[0m size variants: base \u001b[1m(\u001b[0m135M\u001b[1m)\u001b[0m, medium \u001b[1m(\u001b[0m370M\u001b[1m)\u001b[0m, large \u001b[1m(\u001b[0m792M\u001b[1m)\u001b[0m, and mega \u001b[1m(\u001b[0m\u001b[1;36m1.\u001b[0m46B\u001b[1m)\u001b[0m.\n"
      ]
     },
     "metadata": {},
     "output_type": "display_data"
    }
   ],
   "source": [
    "print(response.response)"
   ]
  },
  {
   "cell_type": "code",
   "execution_count": 18,
   "metadata": {},
   "outputs": [
    {
     "data": {
      "text/html": [
       "<pre style=\"white-space:pre;overflow-x:auto;line-height:normal;font-family:Menlo,'DejaVu Sans Mono',consolas,'Courier New',monospace\"><span style=\"font-weight: bold\">{</span>\n",
       "    <span style=\"color: #008000; text-decoration-color: #008000\">'page_label'</span>: <span style=\"color: #008000; text-decoration-color: #008000\">'1'</span>,\n",
       "    <span style=\"color: #008000; text-decoration-color: #008000\">'file_name'</span>: <span style=\"color: #008000; text-decoration-color: #008000\">'aragpt2.pdf'</span>,\n",
       "    <span style=\"color: #008000; text-decoration-color: #008000\">'file_path'</span>: <span style=\"color: #008000; text-decoration-color: #008000\">'data/aragpt2.pdf'</span>,\n",
       "    <span style=\"color: #008000; text-decoration-color: #008000\">'file_type'</span>: <span style=\"color: #008000; text-decoration-color: #008000\">'application/pdf'</span>,\n",
       "    <span style=\"color: #008000; text-decoration-color: #008000\">'file_size'</span>: <span style=\"color: #008080; text-decoration-color: #008080; font-weight: bold\">457776</span>,\n",
       "    <span style=\"color: #008000; text-decoration-color: #008000\">'creation_date'</span>: <span style=\"color: #008000; text-decoration-color: #008000\">'2024-11-12'</span>,\n",
       "    <span style=\"color: #008000; text-decoration-color: #008000\">'last_modified_date'</span>: <span style=\"color: #008000; text-decoration-color: #008000\">'2024-10-22'</span>\n",
       "<span style=\"font-weight: bold\">}</span>\n",
       "</pre>\n"
      ],
      "text/plain": [
       "\u001b[1m{\u001b[0m\n",
       "    \u001b[32m'page_label'\u001b[0m: \u001b[32m'1'\u001b[0m,\n",
       "    \u001b[32m'file_name'\u001b[0m: \u001b[32m'aragpt2.pdf'\u001b[0m,\n",
       "    \u001b[32m'file_path'\u001b[0m: \u001b[32m'data/aragpt2.pdf'\u001b[0m,\n",
       "    \u001b[32m'file_type'\u001b[0m: \u001b[32m'application/pdf'\u001b[0m,\n",
       "    \u001b[32m'file_size'\u001b[0m: \u001b[1;36m457776\u001b[0m,\n",
       "    \u001b[32m'creation_date'\u001b[0m: \u001b[32m'2024-11-12'\u001b[0m,\n",
       "    \u001b[32m'last_modified_date'\u001b[0m: \u001b[32m'2024-10-22'\u001b[0m\n",
       "\u001b[1m}\u001b[0m\n"
      ]
     },
     "metadata": {},
     "output_type": "display_data"
    },
    {
     "data": {
      "text/html": [
       "<pre style=\"white-space:pre;overflow-x:auto;line-height:normal;font-family:Menlo,'DejaVu Sans Mono',consolas,'Courier New',monospace\"><span style=\"font-weight: bold\">{</span>\n",
       "    <span style=\"color: #008000; text-decoration-color: #008000\">'page_label'</span>: <span style=\"color: #008000; text-decoration-color: #008000\">'1'</span>,\n",
       "    <span style=\"color: #008000; text-decoration-color: #008000\">'file_name'</span>: <span style=\"color: #008000; text-decoration-color: #008000\">'aragpt2.pdf'</span>,\n",
       "    <span style=\"color: #008000; text-decoration-color: #008000\">'file_path'</span>: <span style=\"color: #008000; text-decoration-color: #008000\">'data/aragpt2.pdf'</span>,\n",
       "    <span style=\"color: #008000; text-decoration-color: #008000\">'file_type'</span>: <span style=\"color: #008000; text-decoration-color: #008000\">'application/pdf'</span>,\n",
       "    <span style=\"color: #008000; text-decoration-color: #008000\">'file_size'</span>: <span style=\"color: #008080; text-decoration-color: #008080; font-weight: bold\">457776</span>,\n",
       "    <span style=\"color: #008000; text-decoration-color: #008000\">'creation_date'</span>: <span style=\"color: #008000; text-decoration-color: #008000\">'2024-11-12'</span>,\n",
       "    <span style=\"color: #008000; text-decoration-color: #008000\">'last_modified_date'</span>: <span style=\"color: #008000; text-decoration-color: #008000\">'2024-10-22'</span>\n",
       "<span style=\"font-weight: bold\">}</span>\n",
       "</pre>\n"
      ],
      "text/plain": [
       "\u001b[1m{\u001b[0m\n",
       "    \u001b[32m'page_label'\u001b[0m: \u001b[32m'1'\u001b[0m,\n",
       "    \u001b[32m'file_name'\u001b[0m: \u001b[32m'aragpt2.pdf'\u001b[0m,\n",
       "    \u001b[32m'file_path'\u001b[0m: \u001b[32m'data/aragpt2.pdf'\u001b[0m,\n",
       "    \u001b[32m'file_type'\u001b[0m: \u001b[32m'application/pdf'\u001b[0m,\n",
       "    \u001b[32m'file_size'\u001b[0m: \u001b[1;36m457776\u001b[0m,\n",
       "    \u001b[32m'creation_date'\u001b[0m: \u001b[32m'2024-11-12'\u001b[0m,\n",
       "    \u001b[32m'last_modified_date'\u001b[0m: \u001b[32m'2024-10-22'\u001b[0m\n",
       "\u001b[1m}\u001b[0m\n"
      ]
     },
     "metadata": {},
     "output_type": "display_data"
    }
   ],
   "source": [
    "for n in response.source_nodes:\n",
    "    print(n.metadata)"
   ]
  },
  {
   "cell_type": "markdown",
   "metadata": {},
   "source": [
    "## Define Summary Tool\n"
   ]
  },
  {
   "cell_type": "code",
   "execution_count": 19,
   "metadata": {},
   "outputs": [],
   "source": [
    "from llama_index.core import SummaryIndex\n",
    "\n",
    "summary_index = SummaryIndex(nodes=nodes)"
   ]
  },
  {
   "cell_type": "code",
   "execution_count": 20,
   "metadata": {},
   "outputs": [],
   "source": [
    "from llama_index.core.tools import QueryEngineTool, ToolMetadata\n",
    "\n",
    "\n",
    "summary_query_engine = summary_index.as_query_engine(response_mode=\"tree_summarize\")\n",
    "summary_tool = QueryEngineTool(\n",
    "    query_engine=summary_query_engine,\n",
    "    metadata=ToolMetadata(\n",
    "        name=\"summary_tool\",\n",
    "        description=\"Useful for summarization questions related to the aragpt2 paper.\"\n",
    "    ),\n",
    ")"
   ]
  },
  {
   "cell_type": "code",
   "execution_count": 21,
   "metadata": {},
   "outputs": [
    {
     "name": "stdout",
     "output_type": "stream",
     "text": [
      "=== Calling Function ===\n",
      "Calling function: query_vector_engine_tool with args: {\"query\": \"AraGPT2 model sizes\", \"page_numbers\": [\"1\"]}\n",
      "=== Function Output ===\n",
      "The AraGPT2 model comes in 4 size variants: base (135M), medium (370M), large (792M), and mega (1.46B).\n"
     ]
    }
   ],
   "source": [
    "query = \"What are the AraGPT2 model sizes described in page number 1?\"\n",
    "response = llm.predict_and_call(\n",
    "    tools=[query_vector_engine_tool, summary_tool], verbose=True, user_msg=query\n",
    ")"
   ]
  },
  {
   "cell_type": "code",
   "execution_count": 22,
   "metadata": {},
   "outputs": [
    {
     "data": {
      "text/html": [
       "<pre style=\"white-space:pre;overflow-x:auto;line-height:normal;font-family:Menlo,'DejaVu Sans Mono',consolas,'Courier New',monospace\">The AraGPT2 model comes in <span style=\"color: #008080; text-decoration-color: #008080; font-weight: bold\">4</span> size variants: base <span style=\"font-weight: bold\">(</span>135M<span style=\"font-weight: bold\">)</span>, medium <span style=\"font-weight: bold\">(</span>370M<span style=\"font-weight: bold\">)</span>, large <span style=\"font-weight: bold\">(</span>792M<span style=\"font-weight: bold\">)</span>, and mega <span style=\"font-weight: bold\">(</span><span style=\"color: #008080; text-decoration-color: #008080; font-weight: bold\">1.</span>46B<span style=\"font-weight: bold\">)</span>.\n",
       "</pre>\n"
      ],
      "text/plain": [
       "The AraGPT2 model comes in \u001b[1;36m4\u001b[0m size variants: base \u001b[1m(\u001b[0m135M\u001b[1m)\u001b[0m, medium \u001b[1m(\u001b[0m370M\u001b[1m)\u001b[0m, large \u001b[1m(\u001b[0m792M\u001b[1m)\u001b[0m, and mega \u001b[1m(\u001b[0m\u001b[1;36m1.\u001b[0m46B\u001b[1m)\u001b[0m.\n"
      ]
     },
     "metadata": {},
     "output_type": "display_data"
    }
   ],
   "source": [
    "print(response.response)"
   ]
  },
  {
   "cell_type": "code",
   "execution_count": 23,
   "metadata": {},
   "outputs": [
    {
     "name": "stdout",
     "output_type": "stream",
     "text": [
      "=== Calling Function ===\n",
      "Calling function: summary_tool with args: {\"input\": \"AraGPT2: A Pre-trained Arabic Language Model\\n\\nAbstract: AraGPT2 is a pre-trained language model specifically designed for the Arabic language, based on the GPT-2 architecture. This paper presents the model's architecture, training methodology, and evaluation on various Arabic NLP tasks. The authors highlight the importance of pre-trained models for low-resource languages like Arabic and demonstrate AraGPT2's effectiveness in generating coherent and contextually relevant text.\\n\\n1. Introduction: The introduction discusses the challenges faced in Arabic NLP, including dialectal variations and the lack of large annotated datasets. The authors emphasize the need for a robust pre-trained model to improve performance on downstream tasks.\\n\\n2. Model Architecture: AraGPT2 is built on the transformer architecture, similar to GPT-2, with modifications to better suit the Arabic language. The model incorporates a larger vocabulary to accommodate Arabic script and dialects.\\n\\n3. Training Methodology: The model was trained on a diverse corpus of Arabic text, including news articles, social media posts, and literary works. The training process involved unsupervised learning techniques to capture the nuances of the language.\\n\\n4. Evaluation: AraGPT2 was evaluated on several benchmarks, including text generation, sentiment analysis, and question answering. The results indicate that AraGPT2 outperforms existing Arabic language models and demonstrates strong generalization capabilities.\\n\\n5. Conclusion: The paper concludes that AraGPT2 is a significant advancement in Arabic NLP, providing a foundation for future research and applications. The authors encourage the community to utilize AraGPT2 for various tasks and contribute to its further development.\"}\n",
      "=== Function Output ===\n",
      "AraGPT2 is a pre-trained Arabic language model based on the GPT-2 architecture. It addresses challenges in Arabic NLP, such as dialectal variations and limited annotated data, by utilizing a transformer-based architecture tailored for the Arabic language with a larger vocabulary. Trained on diverse Arabic text sources using unsupervised learning techniques, AraGPT2 demonstrates effectiveness in tasks like text generation, sentiment analysis, and question answering, surpassing existing models. This model is considered a significant advancement in Arabic NLP, offering a strong foundation for future research and applications in the field.\n"
     ]
    }
   ],
   "source": [
    "query = \"Summarize the AraGPT2 paper for me please.\"\n",
    "response = llm.predict_and_call(\n",
    "    tools=[query_vector_engine_tool, summary_tool], verbose=True, user_msg=query\n",
    ")"
   ]
  },
  {
   "cell_type": "code",
   "execution_count": 24,
   "metadata": {},
   "outputs": [
    {
     "data": {
      "text/html": [
       "<pre style=\"white-space:pre;overflow-x:auto;line-height:normal;font-family:Menlo,'DejaVu Sans Mono',consolas,'Courier New',monospace\">AraGPT2 is a pre-trained Arabic language model based on the GPT-<span style=\"color: #008080; text-decoration-color: #008080; font-weight: bold\">2</span> architecture. It addresses challenges in Arabic \n",
       "NLP, such as dialectal variations and limited annotated data, by utilizing a transformer-based architecture \n",
       "tailored for the Arabic language with a larger vocabulary. Trained on diverse Arabic text sources using \n",
       "unsupervised learning techniques, AraGPT2 demonstrates effectiveness in tasks like text generation, sentiment \n",
       "analysis, and question answering, surpassing existing models. This model is considered a significant advancement in\n",
       "Arabic NLP, offering a strong foundation for future research and applications in the field.\n",
       "</pre>\n"
      ],
      "text/plain": [
       "AraGPT2 is a pre-trained Arabic language model based on the GPT-\u001b[1;36m2\u001b[0m architecture. It addresses challenges in Arabic \n",
       "NLP, such as dialectal variations and limited annotated data, by utilizing a transformer-based architecture \n",
       "tailored for the Arabic language with a larger vocabulary. Trained on diverse Arabic text sources using \n",
       "unsupervised learning techniques, AraGPT2 demonstrates effectiveness in tasks like text generation, sentiment \n",
       "analysis, and question answering, surpassing existing models. This model is considered a significant advancement in\n",
       "Arabic NLP, offering a strong foundation for future research and applications in the field.\n"
      ]
     },
     "metadata": {},
     "output_type": "display_data"
    }
   ],
   "source": [
    "print(response.response)"
   ]
  }
 ],
 "metadata": {
  "kernelspec": {
   "display_name": "agentic-rag",
   "language": "python",
   "name": "python3"
  },
  "language_info": {
   "codemirror_mode": {
    "name": "ipython",
    "version": 3
   },
   "file_extension": ".py",
   "mimetype": "text/x-python",
   "name": "python",
   "nbconvert_exporter": "python",
   "pygments_lexer": "ipython3",
   "version": "3.11.9"
  },
  "widgets": {
   "application/vnd.jupyter.widget-state+json": {
    "state": {},
    "version_major": 2,
    "version_minor": 0
   }
  }
 },
 "nbformat": 4,
 "nbformat_minor": 4
}
