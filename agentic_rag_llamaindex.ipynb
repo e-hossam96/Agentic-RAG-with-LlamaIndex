{
 "cells": [
  {
   "cell_type": "markdown",
   "metadata": {},
   "source": [
    "# Agentic RAG with LlamaIndex\n"
   ]
  },
  {
   "cell_type": "markdown",
   "metadata": {},
   "source": [
    "In this notebook we will experiment RAG with multi-document agent.\n",
    "\n",
    "- Define a reader to read the `pdf` sample file [AraGPT2](./data/aragpt2.pdf) paper.\n",
    "- Define a `splitter` to process the texts of the document.\n",
    "- Set the LLM embedding and generation model ids.\n",
    "- Create the engines from the Indexes and define a tool wrapper around them.\n",
    "- Create Index for tool objects.\n",
    "- Define the agent worker and agent runner that utilize memory.\n",
    "- Excute the multi-docs agent.\n"
   ]
  },
  {
   "cell_type": "markdown",
   "metadata": {},
   "source": [
    "## Setups\n"
   ]
  },
  {
   "cell_type": "code",
   "execution_count": 1,
   "metadata": {},
   "outputs": [],
   "source": [
    "from rich import print\n",
    "from dotenv import load_dotenv"
   ]
  },
  {
   "cell_type": "code",
   "execution_count": 2,
   "metadata": {},
   "outputs": [],
   "source": [
    "# load env variables\n",
    "_ = load_dotenv()"
   ]
  },
  {
   "cell_type": "code",
   "execution_count": 3,
   "metadata": {},
   "outputs": [],
   "source": [
    "# define some constants\n",
    "GENERATION_MODEL_ID = \"gpt-4o-mini\"\n",
    "EMBEDDING_MODEL_ID = \"text-embedding-3-small\""
   ]
  },
  {
   "cell_type": "markdown",
   "metadata": {},
   "source": [
    "## Load Documents\n"
   ]
  },
  {
   "cell_type": "code",
   "execution_count": 16,
   "metadata": {},
   "outputs": [],
   "source": [
    "from llama_index.core.schema import TextNode\n",
    "from llama_index.core import SimpleDirectoryReader\n",
    "from llama_index.core.node_parser import SentenceSplitter\n",
    "\n",
    "\n",
    "\n",
    "def get_nodes(file_paths: list[str]) -> dict[str, TextNode]:\n",
    "    \"\"\"Extract text nodes from documents.\n",
    "    \n",
    "    inputs:\n",
    "        file_paths (list[str]): paths to pdf files. must be unique.\n",
    "    returns:\n",
    "        nodes_dict (dict[str, TextNode]): mapping of file paths to nodes.\n",
    "    \"\"\"\n",
    "    nodes_dict = {file_path.split(\"/\")[-1].split(\".\")[0]: [] for file_path in file_paths}\n",
    "    documents_reader = SimpleDirectoryReader(input_files=file_paths)\n",
    "    documents = documents_reader.load_data()\n",
    "    sentence_splitter = SentenceSplitter(chunk_size=1024, chunk_overlap=64)\n",
    "    nodes = sentence_splitter.get_nodes_from_documents(documents)\n",
    "    for node in nodes:\n",
    "        nodes_dict[node.metadata[\"file_name\"].split(\".\")[0]].append(node)\n",
    "    return nodes_dict"
   ]
  },
  {
   "cell_type": "code",
   "execution_count": 17,
   "metadata": {},
   "outputs": [
    {
     "data": {
      "text/html": [
       "<pre style=\"white-space:pre;overflow-x:auto;line-height:normal;font-family:Menlo,'DejaVu Sans Mono',consolas,'Courier New',monospace\"><span style=\"font-weight: bold\">[</span><span style=\"color: #008000; text-decoration-color: #008000\">'data/arabert.pdf'</span>, <span style=\"color: #008000; text-decoration-color: #008000\">'data/gpt2.pdf'</span>, <span style=\"color: #008000; text-decoration-color: #008000\">'data/aragpt2.pdf'</span>, <span style=\"color: #008000; text-decoration-color: #008000\">'data/camel_parser.pdf'</span>, <span style=\"color: #008000; text-decoration-color: #008000\">'data/camel_bert.pdf'</span><span style=\"font-weight: bold\">]</span>\n",
       "</pre>\n"
      ],
      "text/plain": [
       "\u001b[1m[\u001b[0m\u001b[32m'data/arabert.pdf'\u001b[0m, \u001b[32m'data/gpt2.pdf'\u001b[0m, \u001b[32m'data/aragpt2.pdf'\u001b[0m, \u001b[32m'data/camel_parser.pdf'\u001b[0m, \u001b[32m'data/camel_bert.pdf'\u001b[0m\u001b[1m]\u001b[0m\n"
      ]
     },
     "metadata": {},
     "output_type": "display_data"
    }
   ],
   "source": [
    "import glob\n",
    "\n",
    "file_paths = glob.glob(\"data/*\")\n",
    "print(file_paths)"
   ]
  },
  {
   "cell_type": "code",
   "execution_count": 18,
   "metadata": {},
   "outputs": [],
   "source": [
    "nodes = get_nodes(file_paths=file_paths)"
   ]
  },
  {
   "cell_type": "code",
   "execution_count": 20,
   "metadata": {},
   "outputs": [
    {
     "data": {
      "text/html": [
       "<pre style=\"white-space:pre;overflow-x:auto;line-height:normal;font-family:Menlo,'DejaVu Sans Mono',consolas,'Courier New',monospace\"><span style=\"color: #800080; text-decoration-color: #800080; font-weight: bold\">dict_keys</span><span style=\"font-weight: bold\">([</span><span style=\"color: #008000; text-decoration-color: #008000\">'arabert'</span>, <span style=\"color: #008000; text-decoration-color: #008000\">'gpt2'</span>, <span style=\"color: #008000; text-decoration-color: #008000\">'aragpt2'</span>, <span style=\"color: #008000; text-decoration-color: #008000\">'camel_parser'</span>, <span style=\"color: #008000; text-decoration-color: #008000\">'camel_bert'</span><span style=\"font-weight: bold\">])</span>\n",
       "</pre>\n"
      ],
      "text/plain": [
       "\u001b[1;35mdict_keys\u001b[0m\u001b[1m(\u001b[0m\u001b[1m[\u001b[0m\u001b[32m'arabert'\u001b[0m, \u001b[32m'gpt2'\u001b[0m, \u001b[32m'aragpt2'\u001b[0m, \u001b[32m'camel_parser'\u001b[0m, \u001b[32m'camel_bert'\u001b[0m\u001b[1m]\u001b[0m\u001b[1m)\u001b[0m\n"
      ]
     },
     "metadata": {},
     "output_type": "display_data"
    }
   ],
   "source": [
    "print(nodes.keys())"
   ]
  },
  {
   "cell_type": "code",
   "execution_count": null,
   "metadata": {},
   "outputs": [],
   "source": []
  }
 ],
 "metadata": {
  "kernelspec": {
   "display_name": "agentic-rag",
   "language": "python",
   "name": "python3"
  },
  "language_info": {
   "codemirror_mode": {
    "name": "ipython",
    "version": 3
   },
   "file_extension": ".py",
   "mimetype": "text/x-python",
   "name": "python",
   "nbconvert_exporter": "python",
   "pygments_lexer": "ipython3",
   "version": "3.11.9"
  },
  "widgets": {
   "application/vnd.jupyter.widget-state+json": {
    "state": {},
    "version_major": 2,
    "version_minor": 0
   }
  }
 },
 "nbformat": 4,
 "nbformat_minor": 4
}
